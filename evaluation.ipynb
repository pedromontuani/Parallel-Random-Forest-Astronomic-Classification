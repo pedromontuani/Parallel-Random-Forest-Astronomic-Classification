{
 "cells": [
  {
   "cell_type": "markdown",
   "metadata": {
    "id": "RH9U9isrMi6U"
   },
   "source": [
    "# Evaluation\n",
    "\n",
    "\n"
   ]
  },
  {
   "metadata": {},
   "cell_type": "markdown",
   "source": "## Setup"
  },
  {
   "cell_type": "code",
   "metadata": {
    "id": "w329aHfwRFi5",
    "ExecuteTime": {
     "end_time": "2025-07-07T08:50:36.102423Z",
     "start_time": "2025-07-07T08:50:24.805701Z"
    }
   },
   "source": [
    "import numpy as np\n",
    "import pandas as pd\n",
    "import random_forest_wrapper as cpp_wrf\n",
    "import matplotlib.pyplot as plt\n",
    "import time\n",
    "\n",
    "from sklearn.model_selection import train_test_split, cross_val_score\n",
    "from sklearn.ensemble import RandomForestClassifier\n",
    "from sklearn.preprocessing import LabelEncoder, StandardScaler\n",
    "from sklearn.utils.class_weight import compute_class_weight\n",
    "from sklearn.metrics import precision_score, recall_score, accuracy_score, f1_score\n",
    "\n",
    "file_path = 'data/SDSS_DR18.csv'\n",
    "out_train_data = 'data/train_data.csv'\n",
    "out_test_data = 'data/test_data.csv'\n",
    "\n",
    "stars_data = pd.read_csv(file_path)\n",
    "\n",
    "preprocessed_data = stars_data.copy()\n",
    "\n",
    "label_encoders = {}\n",
    "for column in ['class']:\n",
    "    le = LabelEncoder()\n",
    "    preprocessed_data[column] = le.fit_transform(preprocessed_data[column])\n",
    "    label_encoders[column] = le\n",
    "\n",
    "numerical_features = [\"ra\",\"dec\",\"u\",\"g\",\"r\",\"i\",\"z\",\"run\",\"rerun\",\"camcol\",\"field\",\"plate\",\"mjd\",\"fiberid\",\"petroRad_u\",\"petroRad_g\",\"petroRad_i\",\"petroRad_r\",\"petroRad_z\",\"petroFlux_u\",\"petroFlux_g\",\"petroFlux_i\",\"petroFlux_r\",\"petroFlux_z\",\"petroR50_u\",\"petroR50_g\",\"petroR50_i\",\"petroR50_r\",\"petroR50_z\",\"psfMag_u\",\"psfMag_r\",\"psfMag_g\",\"psfMag_i\",\"psfMag_z\",\"expAB_u\",\"expAB_g\",\"expAB_r\",\"expAB_i\",\"expAB_z\",\"redshift\"]\n",
    "\n",
    "scaler = StandardScaler()\n",
    "preprocessed_data[numerical_features] = scaler.fit_transform(preprocessed_data[numerical_features])\n",
    "\n",
    "target_column = 'class'\n",
    "X = preprocessed_data.drop(columns=[target_column, \"objid\", \"specobjid\"])\n",
    "y = preprocessed_data[target_column]\n",
    "y = y.astype(int)\n",
    "\n",
    "X_train, X_test, y_train, y_test = train_test_split(X, y, test_size=0.2, random_state=42)\n",
    "\n",
    "train_df = pd.concat([X_train, y_train], axis=1)\n",
    "test_df = pd.concat([X_test, y_test], axis=1)\n",
    "\n",
    "train_df.to_csv(out_train_data, index=False)\n",
    "test_df.to_csv(out_test_data, index=False)\n",
    "\n",
    "class_weight_dict = {cls: weight for cls, weight in zip(\n",
    "    np.unique(y_train), compute_class_weight(class_weight='balanced', classes=np.unique(y_train), y=y_train)\n",
    ")}\n",
    "\n",
    "class_weight_map = cpp_wrf.IntDoubleMap()\n",
    "for k, v in class_weight_dict.items():\n",
    "    class_weight_map[int(k)] = v\n"
   ],
   "outputs": [],
   "execution_count": 17
  },
  {
   "metadata": {},
   "cell_type": "markdown",
   "source": "## Define number of tests and trees"
  },
  {
   "metadata": {
    "ExecuteTime": {
     "end_time": "2025-07-07T08:50:36.170450Z",
     "start_time": "2025-07-07T08:50:36.166653Z"
    }
   },
   "cell_type": "code",
   "source": [
    "num_tests = 10\n",
    "num_trees = 100"
   ],
   "outputs": [],
   "execution_count": 18
  },
  {
   "metadata": {},
   "cell_type": "markdown",
   "source": "## Evaluating Sklearn Random Forest Classifier"
  },
  {
   "cell_type": "code",
   "metadata": {
    "colab": {
     "base_uri": "https://localhost:8080/"
    },
    "id": "xFcndV6KQdna",
    "outputId": "0fdce6a5-ac4c-45f1-c735-cfadbb72a669",
    "ExecuteTime": {
     "end_time": "2025-07-07T10:09:08.164200Z",
     "start_time": "2025-07-07T08:50:36.269357Z"
    }
   },
   "source": [
    "\n",
    "sklearn_test_results = []\n",
    "\n",
    "print(\"Evaluating Sklearn Random Forest Classifier...\")\n",
    "\n",
    "for i in range(num_tests):\n",
    "    print(f\"Test {i+1}/{num_tests}\")\n",
    "\n",
    "    start_time = time.time()\n",
    "\n",
    "    rf_classifier_weighted = RandomForestClassifier(n_estimators=100, random_state=42, class_weight=class_weight_dict)\n",
    "    rf_classifier_weighted.fit(X_train, y_train)\n",
    "    rf_cv_scores_weighted = cross_val_score(rf_classifier_weighted, X_train, y_train, cv=5, scoring='accuracy')\n",
    "\n",
    "    end_time = time.time()\n",
    "    duration = end_time - start_time\n",
    "\n",
    "    y_pred = rf_classifier_weighted.predict(X_test)\n",
    "\n",
    "    accuracy = accuracy_score(y_test, y_pred)\n",
    "    precision = precision_score(y_test, y_pred, average='macro')\n",
    "    recall = recall_score(y_test, y_pred, average='macro')\n",
    "    f_score = f1_score(y_test, y_pred, average='macro')\n",
    "\n",
    "    sklearn_test_results.append({\n",
    "        'accuracy': accuracy,\n",
    "        'precision': precision,\n",
    "        'recall': recall,\n",
    "        'f_score': f_score,\n",
    "        'duration': duration\n",
    "\n",
    "    })\n",
    "\n",
    "    print(\"Accuracy:\", accuracy)\n",
    "    print(\"Precision (macro avg):\", precision)\n",
    "    print(\"Recall (macro avg):\", recall)\n",
    "    print(\"F1 Score (macro avg):\", f_score)\n",
    "    print(\"Duration (seconds):\", duration)\n",
    "    print()\n"
   ],
   "outputs": [
    {
     "name": "stdout",
     "output_type": "stream",
     "text": [
      "Evaluating Sklearn Random Forest Classifier...\n",
      "Test 1/10\n",
      "Accuracy: 0.9907\n",
      "Precision (macro avg): 0.9901602832844856\n",
      "Recall (macro avg): 0.9809894160027928\n",
      "F1 Score (macro avg): 0.9854573509853627\n",
      "Duration (seconds): 473.41490507125854\n",
      "\n",
      "Test 2/10\n",
      "Accuracy: 0.9907\n",
      "Precision (macro avg): 0.9901602832844856\n",
      "Recall (macro avg): 0.9809894160027928\n",
      "F1 Score (macro avg): 0.9854573509853627\n",
      "Duration (seconds): 466.08112239837646\n",
      "\n",
      "Test 3/10\n",
      "Accuracy: 0.9907\n",
      "Precision (macro avg): 0.9901602832844856\n",
      "Recall (macro avg): 0.9809894160027928\n",
      "F1 Score (macro avg): 0.9854573509853627\n",
      "Duration (seconds): 466.05818343162537\n",
      "\n",
      "Test 4/10\n",
      "Accuracy: 0.9907\n",
      "Precision (macro avg): 0.9901602832844856\n",
      "Recall (macro avg): 0.9809894160027928\n",
      "F1 Score (macro avg): 0.9854573509853627\n",
      "Duration (seconds): 465.3371081352234\n",
      "\n",
      "Test 5/10\n",
      "Accuracy: 0.9907\n",
      "Precision (macro avg): 0.9901602832844856\n",
      "Recall (macro avg): 0.9809894160027928\n",
      "F1 Score (macro avg): 0.9854573509853627\n",
      "Duration (seconds): 467.936687707901\n",
      "\n",
      "Test 6/10\n",
      "Accuracy: 0.9907\n",
      "Precision (macro avg): 0.9901602832844856\n",
      "Recall (macro avg): 0.9809894160027928\n",
      "F1 Score (macro avg): 0.9854573509853627\n",
      "Duration (seconds): 465.38274931907654\n",
      "\n",
      "Test 7/10\n",
      "Accuracy: 0.9907\n",
      "Precision (macro avg): 0.9901602832844856\n",
      "Recall (macro avg): 0.9809894160027928\n",
      "F1 Score (macro avg): 0.9854573509853627\n",
      "Duration (seconds): 468.5158779621124\n",
      "\n",
      "Test 8/10\n",
      "Accuracy: 0.9907\n",
      "Precision (macro avg): 0.9901602832844856\n",
      "Recall (macro avg): 0.9809894160027928\n",
      "F1 Score (macro avg): 0.9854573509853627\n",
      "Duration (seconds): 465.77166962623596\n",
      "\n",
      "Test 9/10\n",
      "Accuracy: 0.9907\n",
      "Precision (macro avg): 0.9901602832844856\n",
      "Recall (macro avg): 0.9809894160027928\n",
      "F1 Score (macro avg): 0.9854573509853627\n",
      "Duration (seconds): 486.24477982521057\n",
      "\n",
      "Test 10/10\n",
      "Accuracy: 0.9907\n",
      "Precision (macro avg): 0.9901602832844856\n",
      "Recall (macro avg): 0.9809894160027928\n",
      "F1 Score (macro avg): 0.9854573509853627\n",
      "Duration (seconds): 483.73540115356445\n",
      "\n"
     ]
    }
   ],
   "execution_count": 19
  },
  {
   "metadata": {},
   "cell_type": "markdown",
   "source": "## Evaluating C++ Single Thread Random Forest Classifier"
  },
  {
   "metadata": {
    "ExecuteTime": {
     "end_time": "2025-07-07T10:26:24.186487Z",
     "start_time": "2025-07-07T10:09:08.268497Z"
    }
   },
   "cell_type": "code",
   "source": [
    "cpp_single_thread_results = []\n",
    "\n",
    "print(\"Evaluating C++ Single Thread Random Forest Classifier...\")\n",
    "\n",
    "for i in range(num_tests):\n",
    "    print(f\"Test {i+1}/{num_tests}\")\n",
    "\n",
    "    start_time = time.time()\n",
    "\n",
    "    result = cpp_wrf.execute_single_thread(out_train_data, out_test_data, num_trees, class_weight_map)\n",
    "\n",
    "    end_time = time.time()\n",
    "    duration = end_time - start_time\n",
    "\n",
    "    # Assuming the C++ wrapper outputs a CSV file with results\n",
    "    accuracy = result['accuracy']\n",
    "    precision = result['precision']\n",
    "    recall = result['recall']\n",
    "    f_score = result['fscore']\n",
    "\n",
    "    cpp_single_thread_results.append({\n",
    "        'accuracy': accuracy,\n",
    "        'precision': precision,\n",
    "        'recall': recall,\n",
    "        'f_score': f_score,\n",
    "        'duration': duration\n",
    "    })\n",
    "\n",
    "    print(\"Accuracy:\", accuracy)\n",
    "    print(\"Precision (macro avg):\", precision)\n",
    "    print(\"Recall (macro avg):\", recall)\n",
    "    print(\"F1 Score (macro avg):\", f_score)\n",
    "    print(\"Duration (seconds):\", duration)\n",
    "    print()"
   ],
   "outputs": [
    {
     "name": "stdout",
     "output_type": "stream",
     "text": [
      "Evaluating C++ Single Thread Random Forest Classifier...\n",
      "Test 1/10\n",
      "Accuracy: 0.8441\n",
      "Precision (macro avg): 0.4026780515422709\n",
      "Recall (macro avg): 0.9810874699853015\n",
      "F1 Score (macro avg): 0.5709957346996641\n",
      "Duration (seconds): 103.28352355957031\n",
      "\n",
      "Test 2/10\n",
      "Accuracy: 0.8441\n",
      "Precision (macro avg): 0.4026780515422709\n",
      "Recall (macro avg): 0.9810874699853015\n",
      "F1 Score (macro avg): 0.5709957346996641\n",
      "Duration (seconds): 103.26451015472412\n",
      "\n",
      "Test 3/10\n",
      "Accuracy: 0.8441\n",
      "Precision (macro avg): 0.4026780515422709\n",
      "Recall (macro avg): 0.9810874699853015\n",
      "F1 Score (macro avg): 0.5709957346996641\n",
      "Duration (seconds): 103.25050497055054\n",
      "\n",
      "Test 4/10\n",
      "Accuracy: 0.8441\n",
      "Precision (macro avg): 0.4026780515422709\n",
      "Recall (macro avg): 0.9810874699853015\n",
      "F1 Score (macro avg): 0.5709957346996641\n",
      "Duration (seconds): 103.23991703987122\n",
      "\n",
      "Test 5/10\n",
      "Accuracy: 0.8441\n",
      "Precision (macro avg): 0.4026780515422709\n",
      "Recall (macro avg): 0.9810874699853015\n",
      "F1 Score (macro avg): 0.5709957346996641\n",
      "Duration (seconds): 103.1884355545044\n",
      "\n",
      "Test 6/10\n",
      "Accuracy: 0.8441\n",
      "Precision (macro avg): 0.4026780515422709\n",
      "Recall (macro avg): 0.9810874699853015\n",
      "F1 Score (macro avg): 0.5709957346996641\n",
      "Duration (seconds): 103.29920792579651\n",
      "\n",
      "Test 7/10\n",
      "Accuracy: 0.8441\n",
      "Precision (macro avg): 0.4026780515422709\n",
      "Recall (macro avg): 0.9810874699853015\n",
      "F1 Score (macro avg): 0.5709957346996641\n",
      "Duration (seconds): 103.50829339027405\n",
      "\n",
      "Test 8/10\n",
      "Accuracy: 0.8441\n",
      "Precision (macro avg): 0.4026780515422709\n",
      "Recall (macro avg): 0.9810874699853015\n",
      "F1 Score (macro avg): 0.5709957346996641\n",
      "Duration (seconds): 106.46115303039551\n",
      "\n",
      "Test 9/10\n",
      "Accuracy: 0.8441\n",
      "Precision (macro avg): 0.4026780515422709\n",
      "Recall (macro avg): 0.9810874699853015\n",
      "F1 Score (macro avg): 0.5709957346996641\n",
      "Duration (seconds): 103.24623036384583\n",
      "\n",
      "Test 10/10\n",
      "Accuracy: 0.8441\n",
      "Precision (macro avg): 0.4026780515422709\n",
      "Recall (macro avg): 0.9810874699853015\n",
      "F1 Score (macro avg): 0.5709957346996641\n",
      "Duration (seconds): 103.16493153572083\n",
      "\n"
     ]
    }
   ],
   "execution_count": 20
  },
  {
   "metadata": {},
   "cell_type": "markdown",
   "source": "## Evaluating C++ Parallel Random Forest Classifier"
  },
  {
   "metadata": {
    "ExecuteTime": {
     "end_time": "2025-07-07T10:32:04.844986Z",
     "start_time": "2025-07-07T10:26:24.294297Z"
    }
   },
   "cell_type": "code",
   "source": [
    "cpp_multi_thread_results = []\n",
    "\n",
    "print(\"Evaluating C++ Multi Thread Random Forest Classifier...\")\n",
    "\n",
    "for i in range(num_tests):\n",
    "    print(f\"Test {i+1}/{num_tests}\")\n",
    "\n",
    "    start_time = time.time()\n",
    "\n",
    "    result = cpp_wrf.execute_parallel(out_train_data, out_test_data, num_trees, class_weight_map)\n",
    "\n",
    "    end_time = time.time()\n",
    "    duration = end_time - start_time\n",
    "\n",
    "    accuracy = result['accuracy']\n",
    "    precision = result['precision']\n",
    "    recall = result['recall']\n",
    "    f_score = result['fscore']\n",
    "\n",
    "    cpp_multi_thread_results.append({\n",
    "        'accuracy': accuracy,\n",
    "        'precision': precision,\n",
    "        'recall': recall,\n",
    "        'f_score': f_score,\n",
    "        'duration': duration\n",
    "    })\n",
    "\n",
    "    print(\"Accuracy:\", accuracy)\n",
    "    print(\"Precision (macro avg):\", precision)\n",
    "    print(\"Recall (macro avg):\", recall)\n",
    "    print(\"F1 Score (macro avg):\", f_score)\n",
    "    print(\"Duration (seconds):\", duration)\n",
    "    print()"
   ],
   "outputs": [
    {
     "name": "stdout",
     "output_type": "stream",
     "text": [
      "Evaluating C++ Multi Thread Random Forest Classifier...\n",
      "Test 1/10\n",
      "Accuracy: 0.85405\n",
      "Precision (macro avg): 0.41875505246185224\n",
      "Recall (macro avg): 0.9796690302696601\n",
      "F1 Score (macro avg): 0.5867191045579763\n",
      "Duration (seconds): 31.847660779953003\n",
      "\n",
      "Test 2/10\n",
      "Accuracy: 0.76255\n",
      "Precision (macro avg): 0.3069481090139331\n",
      "Recall (macro avg): 0.990070921517697\n",
      "F1 Score (macro avg): 0.4686132673293793\n",
      "Duration (seconds): 32.98823380470276\n",
      "\n",
      "Test 3/10\n",
      "Accuracy: 0.79555\n",
      "Precision (macro avg): 0.3396686159292286\n",
      "Recall (macro avg): 0.9886524818020557\n",
      "F1 Score (macro avg): 0.5056216721866738\n",
      "Duration (seconds): 33.7258517742157\n",
      "\n",
      "Test 4/10\n",
      "Accuracy: 0.7552\n",
      "Precision (macro avg): 0.3005879821740158\n",
      "Recall (macro avg): 0.9910165479947913\n",
      "F1 Score (macro avg): 0.4612672484049839\n",
      "Duration (seconds): 32.91325569152832\n",
      "\n",
      "Test 5/10\n",
      "Accuracy: 0.71395\n",
      "Precision (macro avg): 0.2692603019875531\n",
      "Recall (macro avg): 0.9947990539031684\n",
      "F1 Score (macro avg): 0.42380870885259503\n",
      "Duration (seconds): 33.64316987991333\n",
      "\n",
      "Test 6/10\n",
      "Accuracy: 0.72855\n",
      "Precision (macro avg): 0.2794783071227737\n",
      "Recall (macro avg): 0.9929078009489798\n",
      "F1 Score (macro avg): 0.43618202287313346\n",
      "Duration (seconds): 35.948352336883545\n",
      "\n",
      "Test 7/10\n",
      "Accuracy: 0.7839\n",
      "Precision (macro avg): 0.32728126462243207\n",
      "Recall (macro avg): 0.9886524818020557\n",
      "F1 Score (macro avg): 0.4917682056734871\n",
      "Duration (seconds): 33.949721813201904\n",
      "\n",
      "Test 8/10\n",
      "Accuracy: 0.75605\n",
      "Precision (macro avg): 0.30126545868546656\n",
      "Recall (macro avg): 0.9905437347562441\n",
      "F1 Score (macro avg): 0.46201309467035145\n",
      "Duration (seconds): 35.15847206115723\n",
      "\n",
      "Test 9/10\n",
      "Accuracy: 0.78685\n",
      "Precision (macro avg): 0.33033175350231725\n",
      "Recall (macro avg): 0.9886524818020557\n",
      "F1 Score (macro avg): 0.4952038873167941\n",
      "Duration (seconds): 35.88070344924927\n",
      "\n",
      "Test 10/10\n",
      "Accuracy: 0.7301\n",
      "Precision (macro avg): 0.28057746286852325\n",
      "Recall (macro avg): 0.9924349877104327\n",
      "F1 Score (macro avg): 0.437473603734679\n",
      "Duration (seconds): 34.48616433143616\n",
      "\n"
     ]
    }
   ],
   "execution_count": 21
  },
  {
   "metadata": {},
   "cell_type": "markdown",
   "source": "## Results"
  },
  {
   "metadata": {
    "ExecuteTime": {
     "end_time": "2025-07-07T10:32:04.936478Z",
     "start_time": "2025-07-07T10:32:04.917809Z"
    }
   },
   "cell_type": "code",
   "source": [
    "sk_mean_accuracy = np.mean([res['accuracy'] for res in sklearn_test_results])\n",
    "sk_mean_precision = np.mean([res['precision'] for res in sklearn_test_results])\n",
    "sk_mean_recall = np.mean([res['recall'] for res in sklearn_test_results])\n",
    "sk_mean_f_score = np.mean([res['f_score'] for res in sklearn_test_results])\n",
    "sk_mean_duration = np.mean([res['duration'] for res in sklearn_test_results])\n",
    "\n",
    "print(\"Sklearn Random Forest Classifier Results:\")\n",
    "print(\"Mean Accuracy:\", sk_mean_accuracy)\n",
    "print(\"Mean Precision (macro avg):\", sk_mean_precision)\n",
    "print(\"Mean Recall (macro avg):\", sk_mean_recall)\n",
    "print(\"Mean F1 Score (macro avg):\", sk_mean_f_score)\n",
    "print(\"Mean Duration (seconds):\", sk_mean_duration)\n",
    "print()\n",
    "\n",
    "cpp_single_thread_mean_accuracy = np.mean([res['accuracy'] for res in cpp_single_thread_results])\n",
    "cpp_single_thread_mean_precision = np.mean([res['precision'] for res in cpp_single_thread_results])\n",
    "cpp_single_thread_mean_recall = np.mean([res['recall'] for res in cpp_single_thread_results])\n",
    "cpp_single_thread_mean_f_score = np.mean([res['f_score'] for res in cpp_single_thread_results])\n",
    "cpp_single_thread_mean_duration = np.mean([res['duration'] for res in cpp_single_thread_results])\n",
    "\n",
    "print(\"C++ Single Thread Random Forest Classifier Results:\")\n",
    "print(\"Mean Accuracy:\", cpp_single_thread_mean_accuracy)\n",
    "print(\"Mean Precision (macro avg):\", cpp_single_thread_mean_precision)\n",
    "print(\"Mean Recall (macro avg):\", cpp_single_thread_mean_recall)\n",
    "print(\"Mean F1 Score (macro avg):\", cpp_single_thread_mean_f_score)\n",
    "print(\"Mean Duration (seconds):\", cpp_single_thread_mean_duration)\n",
    "print()\n",
    "\n",
    "cpp_multi_thread_mean_accuracy = np.mean([res['accuracy'] for res in cpp_multi_thread_results])\n",
    "cpp_multi_thread_mean_precision = np.mean([res['precision'] for res in cpp_multi_thread_results])\n",
    "cpp_multi_thread_mean_recall = np.mean([res['recall'] for res in cpp_multi_thread_results])\n",
    "cpp_multi_thread_mean_f_score = np.mean([res['f_score'] for res in cpp_multi_thread_results])\n",
    "cpp_multi_thread_mean_duration = np.mean([res['duration'] for res in cpp_multi_thread_results])\n",
    "\n",
    "print(\"C++ Multi Thread Random Forest Classifier Results:\")\n",
    "print(\"Mean Accuracy:\", cpp_multi_thread_mean_accuracy)\n",
    "print(\"Mean Precision (macro avg):\", cpp_multi_thread_mean_precision)\n",
    "print(\"Mean Recall (macro avg):\", cpp_multi_thread_mean_recall)\n",
    "print(\"Mean F1 Score (macro avg):\", cpp_multi_thread_mean_f_score)\n",
    "print(\"Mean Duration (seconds):\", cpp_multi_thread_mean_duration)\n",
    "print()\n",
    "\n",
    "\n",
    "N = cpp_wrf.get_num_threads() # Example: 4 threads\n",
    "\n",
    "# Mean durations from your results\n",
    "T_single = cpp_single_thread_mean_duration\n",
    "T_multi = cpp_multi_thread_mean_duration\n",
    "\n",
    "# Speedup\n",
    "speedup = T_single / T_multi\n",
    "\n",
    "# Efficiency\n",
    "efficiency = speedup / N\n",
    "\n",
    "# Amdahl's Law: S = 1 / ( (1-P) + P/N ) => P = (1 - 1/S) / (1 - 1/N)\n",
    "if N > 1:\n",
    "    amdahl_p = (1 - 1/speedup) / (1 - 1/N)\n",
    "else:\n",
    "    amdahl_p = 0\n",
    "\n",
    "# Karp-Flatt Metric: e = (1/S - 1/N) / (1 - 1/N)\n",
    "if N > 1:\n",
    "    karp_flatt_e = (1/speedup - 1/N) / (1 - 1/N)\n",
    "else:\n",
    "    karp_flatt_e = 0\n",
    "\n",
    "print(f\"Speedup: {speedup:.3f}\")\n",
    "print(f\"Efficiency: {efficiency:.3f}\")\n",
    "print(f\"Amdahl's Law (parallel fraction P): {amdahl_p:.3f}\")\n",
    "print(f\"Karp-Flatt Metric (e): {karp_flatt_e:.3f}\")\n",
    "print()\n",
    "\n"
   ],
   "outputs": [
    {
     "name": "stdout",
     "output_type": "stream",
     "text": [
      "Sklearn Random Forest Classifier Results:\n",
      "Mean Accuracy: 0.9907\n",
      "Mean Precision (macro avg): 0.9901602832844855\n",
      "Mean Recall (macro avg): 0.9809894160027927\n",
      "Mean F1 Score (macro avg): 0.9854573509853626\n",
      "Mean Duration (seconds): 470.8478484630585\n",
      "\n",
      "C++ Single Thread Random Forest Classifier Results:\n",
      "Mean Accuracy: 0.8440999999999999\n",
      "Mean Precision (macro avg): 0.4026780515422709\n",
      "Mean Recall (macro avg): 0.9810874699853015\n",
      "Mean F1 Score (macro avg): 0.5709957346996642\n",
      "Mean Duration (seconds): 103.59067075252533\n",
      "\n",
      "C++ Multi Thread Random Forest Classifier Results:\n",
      "Mean Accuracy: 0.766675\n",
      "Mean Precision (macro avg): 0.3154154308368095\n",
      "Mean Recall (macro avg): 0.989739952250714\n",
      "Mean F1 Score (macro avg): 0.47686708156000535\n",
      "Mean Duration (seconds): 34.05415859222412\n",
      "\n",
      "Speedup: 3.042\n",
      "Efficiency: 0.380\n",
      "Amdahl's Law (parallel fraction P): 0.767\n",
      "Karp-Flatt Metric (e): 0.233\n",
      "\n"
     ]
    }
   ],
   "execution_count": 22
  },
  {
   "metadata": {},
   "cell_type": "markdown",
   "source": " ## Plotting Results ('Accuracy', 'Precision', 'Recall', 'F1 Score')"
  },
  {
   "metadata": {
    "ExecuteTime": {
     "end_time": "2025-07-07T10:32:05.240339Z",
     "start_time": "2025-07-07T10:32:05.030305Z"
    }
   },
   "cell_type": "code",
   "source": [
    "labels = ['Accuracy', 'Precision', 'Recall', 'F1 Score']\n",
    "classifiers = ['Sklearn RF', 'C++ Single Thread', 'C++ Multi Thread']\n",
    "\n",
    "# Exclude duration from metric_values\n",
    "metric_values = [\n",
    "    [sk_mean_accuracy, cpp_single_thread_mean_accuracy, cpp_multi_thread_mean_accuracy],\n",
    "    [sk_mean_precision, cpp_single_thread_mean_precision, cpp_multi_thread_mean_precision],\n",
    "    [sk_mean_recall, cpp_single_thread_mean_recall, cpp_multi_thread_mean_recall],\n",
    "    [sk_mean_f_score, cpp_single_thread_mean_f_score, cpp_multi_thread_mean_f_score]\n",
    "]\n",
    "\n",
    "x = np.arange(len(labels))\n",
    "width = 0.22\n",
    "\n",
    "fig, ax = plt.subplots(figsize=(10, 6))\n",
    "for i, classifier in enumerate(classifiers):\n",
    "    ax.bar(x + (i - 1) * width, [metric[i] for metric in metric_values], width, label=classifier)\n",
    "\n",
    "ax.set_xticks(x)\n",
    "ax.set_xticklabels(labels)\n",
    "ax.set_ylabel('Score')\n",
    "ax.set_title('Mean Metrics Grouped by Metric (Excluding Duration)')\n",
    "ax.legend()\n",
    "plt.tight_layout()"
   ],
   "outputs": [
    {
     "data": {
      "text/plain": [
       "<Figure size 1000x600 with 1 Axes>"
      ],
      "image/png": "[encoded data removed]"
     },
     "metadata": {},
     "output_type": "display_data"
    }
   ],
   "execution_count": 23
  },
  {
   "metadata": {},
   "cell_type": "markdown",
   "source": "## Plotting results (Duration)"
  },
  {
   "metadata": {
    "ExecuteTime": {
     "end_time": "2025-07-07T10:49:16.545170Z",
     "start_time": "2025-07-07T10:49:16.428931Z"
    }
   },
   "cell_type": "code",
   "source": [
    "labels = ['Sklearn RF', 'C++ Single Thread', 'C++ Multi Thread']\n",
    "mean_durations = [\n",
    "    sk_mean_duration,\n",
    "    cpp_single_thread_mean_duration,\n",
    "    cpp_multi_thread_mean_duration\n",
    "]\n",
    "\n",
    "colors = ['#ff7f0e', '#1f77b4', '#2ca02c']\n",
    "\n",
    "plt.figure(figsize=(8, 5))\n",
    "plt.bar(labels, mean_durations, color=colors)\n",
    "plt.ylabel('Mean Duration (seconds)')\n",
    "plt.title('Mean Execution Time by Classifier')\n",
    "plt.tight_layout()\n",
    "plt.show()"
   ],
   "outputs": [
    {
     "data": {
      "text/plain": [
       "<Figure size 800x500 with 1 Axes>"
      ],
      "image/png": "[encoded data removed]"
     },
     "metadata": {},
     "output_type": "display_data"
    }
   ],
   "execution_count": 27
  },
  {
   "metadata": {},
   "cell_type": "markdown",
   "source": "## Single vs Multi Thread C++ Execution Time Comparison"
  },
  {
   "metadata": {
    "ExecuteTime": {
     "end_time": "2025-07-07T10:49:35.627312Z",
     "start_time": "2025-07-07T10:49:35.508829Z"
    }
   },
   "cell_type": "code",
   "source": [
    "labels = [ 'C++ Single Thread', 'C++ Multi Thread']\n",
    "mean_durations = [\n",
    "    cpp_single_thread_mean_duration,\n",
    "    cpp_multi_thread_mean_duration\n",
    "]\n",
    "\n",
    "colors = ['#1f77b4', '#2ca02c']\n",
    "\n",
    "plt.figure(figsize=(8, 5))\n",
    "plt.bar(labels, mean_durations, color=colors)\n",
    "plt.ylabel('Mean Duration (seconds)')\n",
    "plt.title('Mean Execution Time by Classifier')\n",
    "plt.tight_layout()\n",
    "plt.show()"
   ],
   "outputs": [
    {
     "data": {
      "text/plain": [
       "<Figure size 800x500 with 1 Axes>"
      ],
      "image/png": "[encoded data removed]"
     },
     "metadata": {},
     "output_type": "display_data"
    }
   ],
   "execution_count": 28
  }
 ],
 "metadata": {
  "accelerator": "GPU",
  "colab": {
   "gpuType": "T4",
   "provenance": []
  },
  "kernelspec": {
   "display_name": "Python 3",
   "name": "python3"
  },
  "language_info": {
   "name": "python"
  }
 },
 "nbformat": 4,
 "nbformat_minor": 0
}
