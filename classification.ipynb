{
 "cells": [
  {
   "cell_type": "markdown",
   "metadata": {
    "id": "RH9U9isrMi6U"
   },
   "source": [
    "## Supervised (Random Forest)\n",
    "\n",
    "\n"
   ]
  },
  {
   "cell_type": "code",
   "metadata": {
    "id": "w329aHfwRFi5",
    "ExecuteTime": {
     "end_time": "2025-07-07T04:21:15.533756Z",
     "start_time": "2025-07-07T04:21:02.894169Z"
    }
   },
   "source": [
    "import numpy as np\n",
    "import pandas as pd\n",
    "from sklearn.model_selection import train_test_split, cross_val_score\n",
    "from sklearn.ensemble import RandomForestClassifier\n",
    "from sklearn.preprocessing import LabelEncoder, StandardScaler\n",
    "from sklearn.utils.class_weight import compute_class_weight\n",
    "from sklearn.metrics import precision_score, recall_score, accuracy_score, f1_score\n",
    "\n",
    "file_path = 'data/SDSS_DR18.csv'\n",
    "stars_data = pd.read_csv(file_path)\n",
    "\n",
    "preprocessed_data = stars_data.copy()\n",
    "\n",
    "label_encoders = {}\n",
    "for column in ['class']:\n",
    "    le = LabelEncoder()\n",
    "    preprocessed_data[column] = le.fit_transform(preprocessed_data[column])\n",
    "    label_encoders[column] = le\n",
    "\n",
    "numerical_features = [\"ra\",\"dec\",\"u\",\"g\",\"r\",\"i\",\"z\",\"run\",\"rerun\",\"camcol\",\"field\",\"plate\",\"mjd\",\"fiberid\",\"petroRad_u\",\"petroRad_g\",\"petroRad_i\",\"petroRad_r\",\"petroRad_z\",\"petroFlux_u\",\"petroFlux_g\",\"petroFlux_i\",\"petroFlux_r\",\"petroFlux_z\",\"petroR50_u\",\"petroR50_g\",\"petroR50_i\",\"petroR50_r\",\"petroR50_z\",\"psfMag_u\",\"psfMag_r\",\"psfMag_g\",\"psfMag_i\",\"psfMag_z\",\"expAB_u\",\"expAB_g\",\"expAB_r\",\"expAB_i\",\"expAB_z\",\"redshift\"]\n",
    "\n",
    "scaler = StandardScaler()\n",
    "preprocessed_data[numerical_features] = scaler.fit_transform(preprocessed_data[numerical_features])\n",
    "\n",
    "target_column = 'class'\n",
    "X = preprocessed_data.drop(columns=[target_column, \"objid\", \"specobjid\"])\n",
    "y = preprocessed_data[target_column]\n",
    "\n",
    "\n",
    "y = y.astype(int)\n",
    "\n",
    "X_train, X_test, y_train, y_test = train_test_split(X, y, test_size=0.2, random_state=42)\n",
    "\n",
    "train_df = pd.concat([X_train, y_train], axis=1)\n",
    "test_df = pd.concat([X_test, y_test], axis=1)\n",
    "\n",
    "train_df.to_csv('train_data.csv', index=False)\n",
    "test_df.to_csv('test_data.csv', index=False)\n",
    "\n",
    "class_weight_dict = {cls: weight for cls, weight in zip(\n",
    "    np.unique(y_train), compute_class_weight(class_weight='balanced', classes=np.unique(y_train), y=y_train)\n",
    ")}\n"
   ],
   "outputs": [],
   "execution_count": 1
  },
  {
   "cell_type": "code",
   "metadata": {
    "colab": {
     "base_uri": "https://localhost:8080/"
    },
    "id": "xFcndV6KQdna",
    "outputId": "0fdce6a5-ac4c-45f1-c735-cfadbb72a669",
    "ExecuteTime": {
     "end_time": "2025-07-06T20:33:12.176537Z",
     "start_time": "2025-07-06T20:25:27.896716Z"
    }
   },
   "source": [
    "rf_classifier_weighted = RandomForestClassifier(n_estimators=100, random_state=42, class_weight=class_weight_dict)\n",
    "\n",
    "rf_classifier_weighted.fit(X_train, y_train)\n",
    "\n",
    "rf_cv_scores_weighted = cross_val_score(rf_classifier_weighted, X_train, y_train, cv=5, scoring='accuracy')\n",
    "\n",
    "accuracy_rf = np.mean(rf_cv_scores_weighted)\n",
    "\n",
    "y_pred = rf_classifier_weighted.predict(X_test)\n",
    "\n",
    "unique_classes = np.unique(y_test)\n",
    "accuracy = accuracy_score(y_test, y_pred)\n",
    "\n",
    "precision = precision_score(y_test, y_pred, average='macro')\n",
    "recall = recall_score(y_test, y_pred, average='macro')\n",
    "f_score = f1_score(y_test, y_pred, average='macro')\n",
    "\n",
    "print(\"Accuracy:\", accuracy)\n",
    "print(\"Precision (macro avg):\", precision)\n",
    "print(\"Recall (macro avg):\", recall)\n",
    "print(\"F1 Score (macro avg):\", f_score)\n"
   ],
   "outputs": [
    {
     "name": "stdout",
     "output_type": "stream",
     "text": [
      "Random Forest Accuracy: 0.9903000000000001\n",
      "              precision    recall  f1-score   support\n",
      "\n",
      "           0       0.99      0.99      0.99     10373\n",
      "           1       0.99      0.95      0.97      2115\n",
      "           2       0.99      1.00      1.00      7512\n",
      "\n",
      "    accuracy                           0.99     20000\n",
      "   macro avg       0.99      0.98      0.99     20000\n",
      "weighted avg       0.99      0.99      0.99     20000\n",
      "\n"
     ]
    }
   ],
   "execution_count": 3
  },
  {
   "metadata": {},
   "cell_type": "markdown",
   "source": "## Setting up the C++ wrapper for Random Forest"
  },
  {
   "metadata": {
    "ExecuteTime": {
     "end_time": "2025-07-07T04:21:21.070771Z",
     "start_time": "2025-07-07T04:21:21.063752Z"
    }
   },
   "cell_type": "code",
   "source": [
    "import random_forest_wrapper\n",
    "\n",
    "class_weight_map = random_forest_wrapper.IntDoubleMap()\n",
    "for k, v in class_weight_dict.items():\n",
    "    class_weight_map[int(k)] = v"
   ],
   "outputs": [],
   "execution_count": 2
  },
  {
   "metadata": {},
   "cell_type": "markdown",
   "source": "## Single Thread Execution"
  },
  {
   "metadata": {
    "ExecuteTime": {
     "end_time": "2025-07-07T04:23:17.278331Z",
     "start_time": "2025-07-07T04:21:35.917538Z"
    }
   },
   "cell_type": "code",
   "source": "random_forest_wrapper.execute_single_thread(\"train_data.csv\", \"test_data.csv\", 100, class_weight_map)",
   "outputs": [
    {
     "name": "stdout",
     "output_type": "stream",
     "text": [
      "Accuracy: 0.8441\n",
      "Precision: 0.402678\n",
      "Recall: 0.981087\n",
      "F1-score: 0.570996\n"
     ]
    }
   ],
   "execution_count": 4
  },
  {
   "metadata": {},
   "cell_type": "markdown",
   "source": "## Parallel Execution"
  },
  {
   "metadata": {
    "ExecuteTime": {
     "end_time": "2025-07-07T04:25:52.551509Z",
     "start_time": "2025-07-07T04:25:27.930116Z"
    }
   },
   "cell_type": "code",
   "source": "random_forest_wrapper.execute_parallel(\"train_data.csv\", \"test_data.csv\", 100, class_weight_map)\n",
   "outputs": [
    {
     "name": "stdout",
     "output_type": "stream",
     "text": [
      "Accuracy: 0.7777\n",
      "Precision: 0.32116\n",
      "Recall: 0.989598\n",
      "F1-score: 0.484939\n"
     ]
    }
   ],
   "execution_count": 6
  }
 ],
 "metadata": {
  "accelerator": "GPU",
  "colab": {
   "gpuType": "T4",
   "provenance": []
  },
  "kernelspec": {
   "display_name": "Python 3",
   "name": "python3"
  },
  "language_info": {
   "name": "python"
  }
 },
 "nbformat": 4,
 "nbformat_minor": 0
}
